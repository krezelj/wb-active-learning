{
 "cells": [
  {
   "attachments": {},
   "cell_type": "markdown",
   "metadata": {},
   "source": [
    "### PCAM Eksperymenty - Seria 1"
   ]
  },
  {
   "attachments": {},
   "cell_type": "markdown",
   "metadata": {},
   "source": [
    "### Wspólne"
   ]
  },
  {
   "cell_type": "code",
   "execution_count": 1,
   "metadata": {},
   "outputs": [],
   "source": [
    "# Tego nie odpalać -- to przeładuje moduły wszystkie i potencjalnie zresetuje LazyLoadera\n",
    "# Nie ruszać chyba, że wiecie co robicie\n",
    "\n",
    "# %load_ext autoreload\n",
    "# %autoreload 0"
   ]
  },
  {
   "cell_type": "code",
   "execution_count": 1,
   "metadata": {},
   "outputs": [],
   "source": [
    "import sys\n",
    "sys.path.append(\"../..\")"
   ]
  },
  {
   "cell_type": "code",
   "execution_count": 2,
   "metadata": {},
   "outputs": [
    {
     "name": "stdout",
     "output_type": "stream",
     "text": [
      "Initialising Lazy Loader (PCAMLL)\n",
      "Default data directory set to c:\\MyRoot\\PWFiles\\semestr 6\\WB\\wb-active-learning\\notebooks\\common\\data\n",
      "To change this path, use the update_data_dir() function from the data_module\n",
      "Data directory set to: c:\\MyRoot\\PWFiles\\semestr 6\\WB\\wb-active-learning\\data\n",
      "Using cuda device\n"
     ]
    }
   ],
   "source": [
    "import torch\n",
    "# import torch.nn as nn\n",
    "import torch.nn.functional as F\n",
    "# from torch.utils.data import Subset, Dataset, DataLoader\n",
    "# from torcheval.metrics.functional import multiclass_f1_score, multiclass_accuracy\n",
    "import torchvision.transforms as T\n",
    "\n",
    "import numpy as np\n",
    "import seaborn as sns\n",
    "import matplotlib.pyplot as plt\n",
    "import pandas as pd\n",
    "\n",
    "import src.modules.data_module as dm\n",
    "import src.modules.learner_module as lm\n",
    "import src.modules.evaluation_module as em\n",
    "import src.modules.pipeline as pp\n",
    "\n",
    "import src.models as models\n",
    "\n",
    "dm.update_data_dir('../../data')\n",
    "device = (\n",
    "    \"cuda\" if torch.cuda.is_available() else \"cpu\"\n",
    ")\n",
    "print(f\"Using {device} device\")"
   ]
  },
  {
   "attachments": {},
   "cell_type": "markdown",
   "metadata": {},
   "source": [
    "### Jasiek\n",
    "- `N`: 5\n",
    "- `init`: 500\n",
    "- `query_batch_size`: 500\n",
    "- `n_queries`: 19\n",
    "- `unlabeled_size`: 50_000"
   ]
  },
  {
   "cell_type": "code",
   "execution_count": 3,
   "metadata": {},
   "outputs": [],
   "source": [
    "experiment_name = 'jasiek_1'\n",
    "N = 5\n",
    "n_queries = 19\n",
    "query_batch_size = 500\n",
    "settings = pp.PipelineSettings(n_queries, 50, 50, query_batch_size, 'confidence')\n",
    "train_size = 50_000\n",
    "ratio_labeled = 0.01\n",
    "test_size = 5000\n",
    "loss_fn = F.cross_entropy"
   ]
  },
  {
   "attachments": {},
   "cell_type": "markdown",
   "metadata": {},
   "source": [
    "### Maciek\n",
    "- `N`: 5\n",
    "- `init`: 500\n",
    "- `query_batch_size`: 100\n",
    "- `n_queries`: 45\n",
    "- `unlabeled_size`: 50_000"
   ]
  },
  {
   "cell_type": "code",
   "execution_count": null,
   "metadata": {},
   "outputs": [],
   "source": [
    "experiment_name = 'maciek_1'\n",
    "N = 5\n",
    "n_queries = 45\n",
    "query_batch_size = 100\n",
    "settings = pp.PipelineSettings(n_queries, 50, 50, query_batch_size, 'confidence')\n",
    "train_size = 50_000\n",
    "ratio_labeled = 0.01\n",
    "test_size = 5000\n",
    "loss_fn = F.cross_entropy"
   ]
  },
  {
   "attachments": {},
   "cell_type": "markdown",
   "metadata": {},
   "source": [
    "### Szymon\n",
    "- `N`: 5\n",
    "- `init`: 100\n",
    "- `query_batch_size`: 100\n",
    "- `n_queries`: 49\n",
    "- `unlabeled_size`: 50_000"
   ]
  },
  {
   "cell_type": "code",
   "execution_count": null,
   "metadata": {},
   "outputs": [],
   "source": [
    "experiment_name = 'szymon_1'\n",
    "N = 5\n",
    "n_queries = 49\n",
    "query_batch_size = 100\n",
    "settings = pp.PipelineSettings(n_queries, 50, 50, query_batch_size, 'confidence')\n",
    "train_size = 50_000\n",
    "ratio_labeled = 0.002\n",
    "test_size = 5000\n",
    "loss_fn = F.cross_entropy"
   ]
  },
  {
   "attachments": {},
   "cell_type": "markdown",
   "metadata": {},
   "source": [
    "### Wiktor\n",
    "- `N`: 3\n",
    "- `init`: 500\n",
    "- `query_batch_size`: 500\n",
    "- `n_queries`: 39\n",
    "- `unlabeled_size`: 50_000"
   ]
  },
  {
   "cell_type": "code",
   "execution_count": 6,
   "metadata": {},
   "outputs": [],
   "source": [
    "experiment_name = 'wiktor_1'\n",
    "N = 3\n",
    "n_queries = 39\n",
    "query_batch_size = 500\n",
    "settings = pp.PipelineSettings(n_queries, 50, 50, query_batch_size, 'confidence')\n",
    "train_size = 50_000\n",
    "ratio_labeled = 0.01\n",
    "test_size = 5000\n",
    "loss_fn = F.cross_entropy"
   ]
  },
  {
   "attachments": {},
   "cell_type": "markdown",
   "metadata": {},
   "source": [
    "### Test (Ignore)"
   ]
  },
  {
   "cell_type": "code",
   "execution_count": 6,
   "metadata": {},
   "outputs": [],
   "source": [
    "N = 1\n",
    "n_queries = 0\n",
    "query_batch_size = 0\n",
    "settings = pp.PipelineSettings(n_queries, 50, 50, query_batch_size, 'confidence')\n",
    "train_size = 50_000\n",
    "ratio_labeled = 1.0\n",
    "test_size = 5_000\n",
    "loss_fn = F.cross_entropy"
   ]
  },
  {
   "attachments": {},
   "cell_type": "markdown",
   "metadata": {},
   "source": [
    "### Wspólne (Oprócz Sebastiana)"
   ]
  },
  {
   "cell_type": "code",
   "execution_count": 4,
   "metadata": {},
   "outputs": [],
   "source": [
    "dynamic_allocation = True\n",
    "reset_on_every_trial = False"
   ]
  },
  {
   "cell_type": "code",
   "execution_count": 5,
   "metadata": {},
   "outputs": [
    {
     "name": "stdout",
     "output_type": "stream",
     "text": [
      "trial: 1\n",
      "Iteration: 1\n",
      "Iteration: 2\n",
      "Iteration: 3\n",
      "Iteration: 4\n",
      "Iteration: 5\n",
      "Iteration: 6\n",
      "Iteration: 7\n",
      "Iteration: 8\n",
      "Iteration: 9\n",
      "Iteration: 10\n",
      "Iteration: 11\n",
      "Iteration: 12\n",
      "Iteration: 13\n",
      "Iteration: 14\n",
      "Iteration: 15\n",
      "Iteration: 16\n",
      "Iteration: 17\n",
      "Iteration: 18\n",
      "Iteration: 19\n"
     ]
    },
    {
     "ename": "ValueError",
     "evalue": "operands could not be broadcast together with shapes (500,) (20,) (500,) ",
     "output_type": "error",
     "traceback": [
      "\u001b[1;31m---------------------------------------------------------------------------\u001b[0m",
      "\u001b[1;31mValueError\u001b[0m                                Traceback (most recent call last)",
      "\u001b[1;32m<ipython-input-5-fb8c98b2e790>\u001b[0m in \u001b[0;36m<module>\u001b[1;34m\u001b[0m\n\u001b[0;32m     26\u001b[0m     \u001b[0msession\u001b[0m\u001b[1;33m,\u001b[0m \u001b[0mstats\u001b[0m \u001b[1;33m=\u001b[0m \u001b[0mpipeline\u001b[0m\u001b[1;33m.\u001b[0m\u001b[0mrun\u001b[0m\u001b[1;33m(\u001b[0m\u001b[0mverbose\u001b[0m\u001b[1;33m=\u001b[0m\u001b[1;36m1\u001b[0m\u001b[1;33m,\u001b[0m \u001b[0mcalculate_accuracy\u001b[0m\u001b[1;33m=\u001b[0m\u001b[1;32mTrue\u001b[0m\u001b[1;33m)\u001b[0m\u001b[1;33m\u001b[0m\u001b[1;33m\u001b[0m\u001b[0m\n\u001b[0;32m     27\u001b[0m     \u001b[0mevaluation\u001b[0m\u001b[1;33m.\u001b[0m\u001b[0mappend\u001b[0m\u001b[1;33m(\u001b[0m\u001b[0msession\u001b[0m\u001b[1;33m)\u001b[0m\u001b[1;33m\u001b[0m\u001b[1;33m\u001b[0m\u001b[0m\n\u001b[1;32m---> 28\u001b[1;33m     \u001b[0mavg_accuracy_history\u001b[0m \u001b[1;33m+=\u001b[0m \u001b[0mstats\u001b[0m\u001b[1;33m[\u001b[0m\u001b[1;34m'accuracy_history'\u001b[0m\u001b[1;33m]\u001b[0m\u001b[1;33m\u001b[0m\u001b[1;33m\u001b[0m\u001b[0m\n\u001b[0m\u001b[0;32m     29\u001b[0m \u001b[0mavg_accuracy_history\u001b[0m \u001b[1;33m/=\u001b[0m \u001b[0mN\u001b[0m\u001b[1;33m\u001b[0m\u001b[1;33m\u001b[0m\u001b[0m\n\u001b[0;32m     30\u001b[0m \u001b[1;33m\u001b[0m\u001b[0m\n",
      "\u001b[1;31mValueError\u001b[0m: operands could not be broadcast together with shapes (500,) (20,) (500,) "
     ]
    }
   ],
   "source": [
    "evaluation = em.Evaluation(262144)\n",
    "avg_accuracy_history = np.zeros(n_queries + 1)\n",
    "\n",
    "if dynamic_allocation:\n",
    "    dm.PCAMLL.reset(train_idx=[], test_idx=[], val_idx=[])\n",
    "else:\n",
    "    # by default all these arguments are None\n",
    "    # if None PCAMLL initialises them to full arrays (i.e. all indices)\n",
    "    dm.PCAMLL.reset() # allocates memory for all of the data (~4GB)\n",
    "\n",
    "for i in range(N):\n",
    "    print(f\"trial: {i + 1}\")\n",
    "    \n",
    "    model = models.PCAMClassifierSmall().to(device)\n",
    "    learner = lm.ActiveLearner(model, device)\n",
    "    optimizer = torch.optim.Adam(params=model.parameters())\n",
    "\n",
    "    dataset = dm.ActiveDataset('pcam', train_size, test_size, ratio_labeled=ratio_labeled, balanced_split=False)\n",
    "    if dynamic_allocation:\n",
    "        if reset_on_every_trial: # reset on every trial\n",
    "            dm.PCAMLL.reset(train_idx=[], test_idx=[], val_idx=[])\n",
    "        dm.PCAMLL.append_idx('train', dataset.train_subset_idx)\n",
    "        dm.PCAMLL.append_idx('val', dataset.test_subset_idx)\n",
    "\n",
    "    pipeline = pp.Pipeline(dataset, learner, optimizer, loss_fn, settings)\n",
    "    session, stats = pipeline.run(verbose=1, calculate_accuracy=True)\n",
    "    evaluation.append(session)\n",
    "    avg_accuracy_history += stats['accuracy_history']\n",
    "avg_accuracy_history /= N\n",
    "\n",
    "print(\"Saving results\")\n",
    "evaluation.to_csv(f\"{experiment_name}_evaluation\")\n",
    "np.save(f'{experiment_name}_avg_accuracy_history', avg_accuracy_history)"
   ]
  },
  {
   "cell_type": "code",
   "execution_count": 6,
   "metadata": {},
   "outputs": [
    {
     "data": {
      "text/plain": [
       "[0.729200005531311,\n",
       " 0.7386000156402588,\n",
       " 0.7113999724388123,\n",
       " 0.6588000059127808,\n",
       " 0.7071999907493591,\n",
       " 0.7283999919891357,\n",
       " 0.7401999831199646,\n",
       " 0.7218000292778015,\n",
       " 0.7271999716758728,\n",
       " 0.7429999709129333,\n",
       " 0.6759999990463257,\n",
       " 0.7170000076293945,\n",
       " 0.7179999947547913,\n",
       " 0.7307999730110168,\n",
       " 0.7283999919891357,\n",
       " 0.7328000068664551,\n",
       " 0.7445999979972839,\n",
       " 0.7164000272750854,\n",
       " 0.7214000225067139,\n",
       " 0.7193999886512756]"
      ]
     },
     "execution_count": 6,
     "metadata": {},
     "output_type": "execute_result"
    }
   ],
   "source": [
    "stats['accuracy_history']"
   ]
  },
  {
   "attachments": {},
   "cell_type": "markdown",
   "metadata": {},
   "source": [
    "### Sebastian"
   ]
  }
 ],
 "metadata": {
  "kernelspec": {
   "display_name": "pytorch-env",
   "language": "python",
   "name": "python3"
  },
  "language_info": {
   "codemirror_mode": {
    "name": "ipython",
    "version": 3
   },
   "file_extension": ".py",
   "mimetype": "text/x-python",
   "name": "python",
   "nbconvert_exporter": "python",
   "pygments_lexer": "ipython3",
   "version": "3.9.16"
  },
  "orig_nbformat": 4
 },
 "nbformat": 4,
 "nbformat_minor": 2
}
