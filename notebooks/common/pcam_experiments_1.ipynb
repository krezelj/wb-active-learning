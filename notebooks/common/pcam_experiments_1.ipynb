{
 "cells": [
  {
   "attachments": {},
   "cell_type": "markdown",
   "metadata": {},
   "source": [
    "### PCAM Eksperymenty - Seria 1"
   ]
  },
  {
   "attachments": {},
   "cell_type": "markdown",
   "metadata": {},
   "source": [
    "### Wspólne"
   ]
  },
  {
   "cell_type": "code",
   "execution_count": 1,
   "metadata": {},
   "outputs": [],
   "source": [
    "# Tego nie odpalać -- to przeładuje moduły wszystkie i potencjalnie zresetuje LazyLoadera\n",
    "# Nie ruszać chyba, że wiecie co robicie\n",
    "\n",
    "# %load_ext autoreload\n",
    "# %autoreload 0"
   ]
  },
  {
   "cell_type": "code",
   "execution_count": 1,
   "metadata": {},
   "outputs": [],
   "source": [
    "import sys\n",
    "sys.path.append(\"../..\")"
   ]
  },
  {
   "cell_type": "code",
   "execution_count": 2,
   "metadata": {},
   "outputs": [
    {
     "name": "stdout",
     "output_type": "stream",
     "text": [
      "Initialising Lazy Loader (PCAMLL)\n",
      "Default data directory set to c:\\MyRoot\\PWFiles\\semestr 6\\WB\\wb-active-learning\\notebooks\\common\\data\n",
      "To change this path, use the update_data_dir() function from the data_module\n",
      "Data directory set to: c:\\MyRoot\\PWFiles\\semestr 6\\WB\\wb-active-learning\\data\n",
      "Using cuda device\n"
     ]
    }
   ],
   "source": [
    "import torch\n",
    "import torch.nn.functional as F\n",
    "import torchvision.transforms as T\n",
    "\n",
    "import numpy as np\n",
    "import seaborn as sns\n",
    "import matplotlib.pyplot as plt\n",
    "import pandas as pd\n",
    "\n",
    "import src.modules.data_module as dm\n",
    "import src.modules.learner_module as lm\n",
    "import src.modules.evaluation_module as em\n",
    "import src.modules.pipeline as pp\n",
    "\n",
    "import src.models as models\n",
    "\n",
    "dm.update_data_dir('../../data')\n",
    "device = (\n",
    "    \"cuda\" if torch.cuda.is_available() else \"cpu\"\n",
    ")\n",
    "print(f\"Using {device} device\")"
   ]
  },
  {
   "attachments": {},
   "cell_type": "markdown",
   "metadata": {},
   "source": [
    "### Experiments to Conduct\n",
    "- mean accuracy for 50/100/250/500 random samples (both balanced and unbalanced) (N = 100, 100, 50, 20)\n",
    "- AL_10_45_2_balanced (N >= 100)\n",
    "- AL_10_45_2_ubalanced (N >= 100)\n",
    "\n",
    "**Progress**\n",
    "- [ ][ ] 50 (un)balanced\n",
    "- [x][ ] 100 (un)balanced\n",
    "- [ ][ ] 250 (un)balanced\n",
    "- [x][ ] 500 (un)balanced"
   ]
  },
  {
   "attachments": {},
   "cell_type": "markdown",
   "metadata": {},
   "source": [
    "### Experiment Setup"
   ]
  },
  {
   "attachments": {},
   "cell_type": "markdown",
   "metadata": {},
   "source": [
    "**Random Unbalanced**"
   ]
  },
  {
   "cell_type": "code",
   "execution_count": null,
   "metadata": {},
   "outputs": [],
   "source": [
    "experiment_balanced = False\n",
    "N = 100\n",
    "n_queries = 0\n",
    "query_batch_size = 0\n",
    "settings = pp.PipelineSettings(n_queries, 50, 50, query_batch_size, 'confidence')\n",
    "train_size = 250\n",
    "ratio_labeled = 1.0\n",
    "test_size = 1_000\n",
    "loss_fn = F.cross_entropy\n",
    "experiment_name = f'{train_size}_full_balanced'"
   ]
  },
  {
   "attachments": {},
   "cell_type": "markdown",
   "metadata": {},
   "source": [
    "**Random Balanced**"
   ]
  },
  {
   "cell_type": "code",
   "execution_count": null,
   "metadata": {},
   "outputs": [],
   "source": [
    "experiment_balanced = True\n",
    "N = 100\n",
    "n_queries = 0\n",
    "query_batch_size = 0\n",
    "settings = pp.PipelineSettings(n_queries, 50, 50, query_batch_size, 'confidence')\n",
    "train_size = 250\n",
    "ratio_labeled = 1.0\n",
    "test_size = 1_000\n",
    "loss_fn = F.cross_entropy\n",
    "experiment_name = f'{train_size}_full_balanced'"
   ]
  },
  {
   "attachments": {},
   "cell_type": "markdown",
   "metadata": {},
   "source": [
    "**Active Learning 10_45_2 (Unbalanced)**"
   ]
  },
  {
   "cell_type": "code",
   "execution_count": null,
   "metadata": {},
   "outputs": [],
   "source": [
    "experiment_name = '10_45_2_full'\n",
    "experiment_balanced = False\n",
    "N = 10\n",
    "n_queries = 45\n",
    "query_batch_size = 2\n",
    "settings = pp.PipelineSettings(n_queries, 50, 50, query_batch_size, 'confidence')\n",
    "train_size = 30_000\n",
    "ratio_labeled = 0.000334\n",
    "test_size = 1_000\n",
    "loss_fn = F.cross_entropy"
   ]
  },
  {
   "attachments": {},
   "cell_type": "markdown",
   "metadata": {},
   "source": [
    "**Active Learning 10_45_2 (Balanced)**"
   ]
  },
  {
   "cell_type": "code",
   "execution_count": null,
   "metadata": {},
   "outputs": [],
   "source": [
    "experiment_name = '10_45_2_full_balanced'\n",
    "experiment_balanced = True\n",
    "N = 10\n",
    "n_queries = 45\n",
    "query_batch_size = 2\n",
    "settings = pp.PipelineSettings(n_queries, 50, 50, query_batch_size, 'confidence')\n",
    "train_size = 30_000\n",
    "ratio_labeled = 0.000334\n",
    "test_size = 1_000\n",
    "loss_fn = F.cross_entropy"
   ]
  },
  {
   "attachments": {},
   "cell_type": "markdown",
   "metadata": {},
   "source": [
    "**Test (Ignore)**"
   ]
  },
  {
   "cell_type": "code",
   "execution_count": 3,
   "metadata": {},
   "outputs": [],
   "source": [
    "experiment_name = '10_45_2_full_balanced'\n",
    "N = 4\n",
    "n_queries = 45\n",
    "query_batch_size = 2\n",
    "settings = pp.PipelineSettings(n_queries, 50, 50, query_batch_size, 'confidence')\n",
    "train_size = 30_000\n",
    "ratio_labeled = 0.000334\n",
    "test_size = 1_000\n",
    "loss_fn = F.cross_entropy"
   ]
  },
  {
   "attachments": {},
   "cell_type": "markdown",
   "metadata": {},
   "source": [
    "### Experiment"
   ]
  },
  {
   "cell_type": "code",
   "execution_count": 41,
   "metadata": {},
   "outputs": [],
   "source": [
    "import time\n",
    "dynamic_allocation = True   # Zalecane teraz gdy używamy 96x96\n",
    "reset_on_every_trial = True # Zalecane teraz gdy używamy 96x96\n",
    "allow_cooldown = True       # Zalecane jeśli wam się rozgrzewa komputer"
   ]
  },
  {
   "cell_type": "code",
   "execution_count": null,
   "metadata": {},
   "outputs": [],
   "source": [
    "evaluation = em.Evaluation(262144)\n",
    "accuracy_history = np.zeros(shape=(N, n_queries + 1))\n",
    "\n",
    "if dynamic_allocation:\n",
    "    dm.PCAMLL.reset(train_idx=[], test_idx=[], val_idx=[])\n",
    "else:\n",
    "    # by default all these arguments are None\n",
    "    # if None PCAMLL initialises them to full arrays (i.e. all indices)\n",
    "    dm.PCAMLL.reset() # allocates memory for all of the data\n",
    "\n",
    "for i in range(N):\n",
    "    print(f\"trial: {i + 1}\")\n",
    "    if i != 0:\n",
    "        print(\"cooling down...\")\n",
    "        time.sleep(120)\n",
    "        print(\"resuming work!\")\n",
    "    \n",
    "    model = models.PCAMClassifier().to(device)\n",
    "    learner = lm.ActiveLearner(model, device)\n",
    "    optimizer = torch.optim.Adam(params=model.parameters())\n",
    "\n",
    "    dataset = dm.ActiveDataset('pcam', train_size, test_size, ratio_labeled=ratio_labeled, balanced_split=experiment_balanced)\n",
    "    if dynamic_allocation:\n",
    "        if reset_on_every_trial:\n",
    "            dm.PCAMLL.reset(train_idx=[], test_idx=[], val_idx=[])\n",
    "        dm.PCAMLL.append_idx('train', dataset.train_subset_idx)\n",
    "        dm.PCAMLL.append_idx('val', dataset.test_subset_idx)\n",
    "\n",
    "    pipeline = pp.Pipeline(dataset, learner, optimizer, loss_fn, settings)\n",
    "    session, stats = pipeline.run(verbose=1, calculate_accuracy=True)\n",
    "    evaluation.append(session)\n",
    "    accuracy_history[i,:] = stats['accuracy_history']\n",
    "\n",
    "print(\"Saving results\")\n",
    "evaluation.to_csv(f\"{experiment_name}_evaluation.csv\")\n",
    "np.save(f'{experiment_name}_accuracy_history', accuracy_history)"
   ]
  },
  {
   "cell_type": "code",
   "execution_count": 27,
   "metadata": {},
   "outputs": [
    {
     "data": {
      "text/plain": [
       "<Axes: >"
      ]
     },
     "execution_count": 27,
     "metadata": {},
     "output_type": "execute_result"
    },
    {
     "data": {
      "image/png": "[encoded data removed]",
      "text/plain": [
       "<Figure size 432x288 with 1 Axes>"
      ]
     },
     "metadata": {
      "needs_background": "light"
     },
     "output_type": "display_data"
    }
   ],
   "source": [
    "sns.lineplot(np.mean(accuracy_history, axis=0))"
   ]
  }
 ],
 "metadata": {
  "kernelspec": {
   "display_name": "pytorch-env",
   "language": "python",
   "name": "python3"
  },
  "language_info": {
   "codemirror_mode": {
    "name": "ipython",
    "version": 3
   },
   "file_extension": ".py",
   "mimetype": "text/x-python",
   "name": "python",
   "nbconvert_exporter": "python",
   "pygments_lexer": "ipython3",
   "version": "3.9.16"
  },
  "orig_nbformat": 4
 },
 "nbformat": 4,
 "nbformat_minor": 2
}
