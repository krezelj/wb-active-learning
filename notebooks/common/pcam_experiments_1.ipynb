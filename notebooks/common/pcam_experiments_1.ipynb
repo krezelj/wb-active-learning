{
 "cells": [
  {
   "attachments": {},
   "cell_type": "markdown",
   "metadata": {},
   "source": [
    "### PCAM Eksperymenty - Seria 1"
   ]
  },
  {
   "attachments": {},
   "cell_type": "markdown",
   "metadata": {},
   "source": [
    "### Wspólne"
   ]
  },
  {
   "cell_type": "code",
   "execution_count": 1,
   "metadata": {},
   "outputs": [],
   "source": [
    "%load_ext autoreload\n",
    "%autoreload 2"
   ]
  },
  {
   "cell_type": "code",
   "execution_count": 1,
   "metadata": {},
   "outputs": [],
   "source": [
    "import sys\n",
    "sys.path.append(\"../..\")"
   ]
  },
  {
   "cell_type": "code",
   "execution_count": 2,
   "metadata": {},
   "outputs": [
    {
     "name": "stdout",
     "output_type": "stream",
     "text": [
      "Default data directory set to c:\\MyRoot\\PWFiles\\semestr 6\\WB\\wb-active-learning\\notebooks\\common\\data\n",
      "To change this path, use the update_data_dir() function from the data_module\n",
      "Initialising Lazy Loader (PCAMLL)\n",
      "Data directory set to: c:\\MyRoot\\PWFiles\\semestr 6\\WB\\wb-active-learning\\data\n",
      "Using cuda device\n"
     ]
    }
   ],
   "source": [
    "import torch\n",
    "import torch.nn as nn\n",
    "import torch.nn.functional as F\n",
    "from torch.utils.data import Subset, Dataset, DataLoader\n",
    "from torcheval.metrics.functional import multiclass_f1_score, multiclass_accuracy\n",
    "import torchvision.transforms as T\n",
    "\n",
    "import numpy as np\n",
    "import seaborn as sns\n",
    "import matplotlib.pyplot as plt\n",
    "import pandas as pd\n",
    "\n",
    "import src.modules.data_module as dm\n",
    "import src.modules.learner_module as lm\n",
    "import src.modules.evaluation_module as em\n",
    "import src.modules.pipeline as pp\n",
    "\n",
    "import src.models as models\n",
    "\n",
    "dm.update_data_dir('../../data')\n",
    "device = (\n",
    "    \"cuda\" if torch.cuda.is_available() else \"cpu\"\n",
    ")\n",
    "print(f\"Using {device} device\")"
   ]
  },
  {
   "attachments": {},
   "cell_type": "markdown",
   "metadata": {},
   "source": [
    "### Jasiek\n",
    "- `N`: 5\n",
    "- `init`: 500\n",
    "- `query_batch_size`: 500\n",
    "- `n_queries`: 19\n",
    "- `unlabeled_size`: 50_000"
   ]
  },
  {
   "cell_type": "code",
   "execution_count": null,
   "metadata": {},
   "outputs": [],
   "source": [
    "N = 5\n",
    "settings = pp.PipelineSettings(19, 50, 50, 500, 'confidence')\n",
    "train_size = 50_000\n",
    "ratio_labeled = 0.01\n",
    "test_size = 5000\n",
    "loss_fn = F.cross_entropy"
   ]
  },
  {
   "attachments": {},
   "cell_type": "markdown",
   "metadata": {},
   "source": [
    "### Maciek\n",
    "- `N`: 5\n",
    "- `init`: 500\n",
    "- `query_batch_size`: 100\n",
    "- `n_queries`: 45\n",
    "- `unlabeled_size`: 50_000"
   ]
  },
  {
   "cell_type": "code",
   "execution_count": null,
   "metadata": {},
   "outputs": [],
   "source": [
    "N = 5\n",
    "settings = pp.PipelineSettings(45, 50, 50, 100, 'confidence')\n",
    "train_size = 50_000\n",
    "ratio_labeled = 0.01\n",
    "test_size = 5000\n",
    "loss_fn = F.cross_entropy"
   ]
  },
  {
   "attachments": {},
   "cell_type": "markdown",
   "metadata": {},
   "source": [
    "### Szymon\n",
    "- `N`: 5\n",
    "- `init`: 100\n",
    "- `query_batch_size`: 100\n",
    "- `n_queries`: 49\n",
    "- `unlabeled_size`: 50_000"
   ]
  },
  {
   "cell_type": "code",
   "execution_count": null,
   "metadata": {},
   "outputs": [],
   "source": [
    "N = 5\n",
    "settings = pp.PipelineSettings(49, 50, 50, 100, 'confidence')\n",
    "train_size = 50_000\n",
    "ratio_labeled = 0.002\n",
    "test_size = 5000\n",
    "loss_fn = F.cross_entropy"
   ]
  },
  {
   "attachments": {},
   "cell_type": "markdown",
   "metadata": {},
   "source": [
    "### Wiktor\n",
    "- `N`: 3\n",
    "- `init`: 500\n",
    "- `query_batch_size`: 500\n",
    "- `n_queries`: 39\n",
    "- `unlabeled_size`: 50_000"
   ]
  },
  {
   "cell_type": "code",
   "execution_count": 6,
   "metadata": {},
   "outputs": [],
   "source": [
    "N = 3\n",
    "settings = pp.PipelineSettings(39, 50, 50, 500, 'confidence')\n",
    "train_size = 50_000\n",
    "ratio_labeled = 0.01\n",
    "test_size = 5000\n",
    "loss_fn = F.cross_entropy"
   ]
  },
  {
   "attachments": {},
   "cell_type": "markdown",
   "metadata": {},
   "source": [
    "### Test (Ignore)"
   ]
  },
  {
   "cell_type": "code",
   "execution_count": 3,
   "metadata": {},
   "outputs": [],
   "source": [
    "N = 1\n",
    "settings = pp.PipelineSettings(3, 50, 50, 500, 'confidence')\n",
    "train_size = 10_000\n",
    "ratio_labeled = 0.05\n",
    "test_size = 1000\n",
    "loss_fn = F.cross_entropy"
   ]
  },
  {
   "attachments": {},
   "cell_type": "markdown",
   "metadata": {},
   "source": [
    "### Wspólne (Oprócz Sebastiana)"
   ]
  },
  {
   "cell_type": "code",
   "execution_count": 6,
   "metadata": {},
   "outputs": [
    {
     "name": "stdout",
     "output_type": "stream",
     "text": [
      "trial: 1\n",
      "Iteration: 1\n",
      "Iteration: 2\n",
      "Iteration: 3\n"
     ]
    }
   ],
   "source": [
    "evaluation = em.Evaluation(262144)\n",
    "for i in range(N):\n",
    "    print(f\"trial: {i + 1}\")\n",
    "    \n",
    "    model = models.PCAMClassifierSmall().to(device)\n",
    "    learner = lm.ActiveLearner(model, device)\n",
    "    optimizer = torch.optim.Adam(params=model.parameters())\n",
    "\n",
    "    dataset = dm.ActiveDataset('pcam', train_size, test_size, ratio_labeled=ratio_labeled, balanced_split=False)\n",
    "    pipeline = pp.Pipeline(dataset, learner, optimizer, loss_fn, settings)\n",
    "    session, stats = pipeline.run(verbose=1, calculate_accuracy=True)\n",
    "    evaluation.append(session)"
   ]
  },
  {
   "cell_type": "code",
   "execution_count": 22,
   "metadata": {},
   "outputs": [
    {
     "data": {
      "text/plain": [
       "{'t_loss_history': [0.6604787576943636,\n",
       "  0.5646756310015917,\n",
       "  0.5395107381045818,\n",
       "  0.4869495201855898,\n",
       "  0.44578016363084316,\n",
       "  0.3925765510648489,\n",
       "  0.3962420839816332,\n",
       "  0.2772591793909669,\n",
       "  0.1770090633071959,\n",
       "  0.16618593269959092,\n",
       "  0.5907770441845059,\n",
       "  0.5353318369016051,\n",
       "  0.4740642225369811,\n",
       "  0.42378219682723284,\n",
       "  0.3496539741754532,\n",
       "  0.2446841518394649,\n",
       "  0.17900431901216507,\n",
       "  0.1446740715764463,\n",
       "  0.13421180087607354],\n",
       " 'v_loss_history': [0.6402731314301491,\n",
       "  0.7902173548936844,\n",
       "  0.5355012491345406,\n",
       "  0.641561709344387,\n",
       "  0.48961926624178886,\n",
       "  0.5998539999127388,\n",
       "  0.677541583776474,\n",
       "  0.6364129930734634,\n",
       "  0.643676333129406,\n",
       "  1.1688323765993118,\n",
       "  0.574190903455019,\n",
       "  0.5638282112777233,\n",
       "  0.7467082515358925,\n",
       "  0.5611105933785439,\n",
       "  0.7505740970373154,\n",
       "  0.7822552397847176,\n",
       "  0.6768268346786499,\n",
       "  0.7156452387571335,\n",
       "  1.0535659193992615],\n",
       " 'accuracy_history': [0.7549999952316284, 0.7540000081062317],\n",
       " 'f1score_history': []}"
      ]
     },
     "execution_count": 22,
     "metadata": {},
     "output_type": "execute_result"
    }
   ],
   "source": [
    "stats"
   ]
  },
  {
   "cell_type": "code",
   "execution_count": 15,
   "metadata": {},
   "outputs": [
    {
     "data": {
      "text/plain": [
       "array([94])"
      ]
     },
     "execution_count": 15,
     "metadata": {},
     "output_type": "execute_result"
    }
   ],
   "source": [
    "evaluation.top_queried(1)"
   ]
  },
  {
   "cell_type": "code",
   "execution_count": 21,
   "metadata": {},
   "outputs": [
    {
     "data": {
      "image/png": "[encoded data removed]",
      "text/plain": [
       "<PIL.Image.Image image mode=RGB size=96x96>"
      ]
     },
     "execution_count": 21,
     "metadata": {},
     "output_type": "execute_result"
    }
   ],
   "source": [
    "T.ToPILImage()(dataset._full_train_set[94][0])"
   ]
  },
  {
   "attachments": {},
   "cell_type": "markdown",
   "metadata": {},
   "source": [
    "### Sebastian"
   ]
  }
 ],
 "metadata": {
  "kernelspec": {
   "display_name": "pytorch-env",
   "language": "python",
   "name": "python3"
  },
  "language_info": {
   "codemirror_mode": {
    "name": "ipython",
    "version": 3
   },
   "file_extension": ".py",
   "mimetype": "text/x-python",
   "name": "python",
   "nbconvert_exporter": "python",
   "pygments_lexer": "ipython3",
   "version": "3.9.16"
  },
  "orig_nbformat": 4
 },
 "nbformat": 4,
 "nbformat_minor": 2
}
